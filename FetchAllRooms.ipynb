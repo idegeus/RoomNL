{
 "cells": [
  {
   "cell_type": "code",
   "execution_count": null,
   "metadata": {},
   "outputs": [],
   "source": [
    "import requests\n",
    "import pandas as pd\n",
    "import time\n",
    "from tqdm import tqdm, trange\n",
    "from IPython.display import HTML\n",
    "pd.set_option('display.max_columns', 500)"
   ]
  },
  {
   "cell_type": "markdown",
   "metadata": {},
   "source": [
    "# Room.nl reader & helper\n",
    "\n",
    "<img src=\"./cookie.png\" width=\"40%\" style=\"float: right; margin-left: 20px\" />\n",
    "\n",
    "Deze tool helpt je bij het snel vinden van je beste kamer in plaats van de angular app op Room.nl te gebruiken. Vul gewoon je leeftijd en inkomen in (voor berekening huurtoeslag) en geef toegang tot Room.nl door je php-sessiecode in te vullen vanuit cookies. \n",
    "\n",
    "Om te beginnen run je alle cellen. Bij de eerste cel wordt om drie waardes gevraagd. Vul bij de php-sessie-id de cookie in die in je browser wordt gezet nadat je inlogt (deze is niet lang geldig, zeg 30 minuten), dus doe dit elke keer opnieuw. \n",
    "\n",
    "Zie in de afbeelding hiernaast hoe je deze code vindt na het inloggen op Rooms. "
   ]
  },
  {
   "cell_type": "code",
   "execution_count": null,
   "metadata": {},
   "outputs": [],
   "source": [
    "leeftijd = int(input('Geef hier je leeftijd in een rond getal: '))\n",
    "income = int(input('Geef hier je geschat inkomen in een rond getal: '))\n",
    "phpsessid = input('Plak hier je PHP-sessiecode: ')"
   ]
  },
  {
   "cell_type": "markdown",
   "metadata": {},
   "source": [
    "**De code hieronder kan je voor nu gewoon laten runnen en overslaan. Onderin dit programma staan conclusies.**"
   ]
  },
  {
   "cell_type": "markdown",
   "metadata": {},
   "source": [
    "# Get raw data\n",
    "Haal ruwe data op van Room.nl met jouw php-sessiecode."
   ]
  },
  {
   "cell_type": "code",
   "execution_count": null,
   "metadata": {
    "scrolled": false
   },
   "outputs": [],
   "source": [
    "# Get room application information (user dependent)\n",
    "cookies = {\n",
    "    'staticfilecache': 'typo_user_logged_in',\n",
    "    'PHPSESSID': phpsessid,\n",
    "}\n",
    "\n",
    "headers = {\n",
    "    'Origin': 'https://www.room.nl',\n",
    "    'Referer': 'https://www.room.nl/aanbod/studentenwoningen/',\n",
    "    'X-Requested-With': 'XMLHttpRequest',\n",
    "}\n",
    "\n",
    "data = [\n",
    "  ('configurationKeys[]', 'aantalReacties'),\n",
    "  ('configurationKeys[]', 'passend'),\n",
    "]\n",
    "\n",
    "response = requests.post('https://www.room.nl/portal/object/frontend/getdynamicdata/format/json', headers=headers, cookies=cookies, data=data)\n",
    "result = [{**l, **l['reactionData']} for l in response.json()['result']]\n",
    "\n",
    "application_poss_df = pd.DataFrame(result).set_index('id').drop(columns=['reactionData', 'loggedin'])\n",
    "application_poss_df.head(2)\n"
   ]
  },
  {
   "cell_type": "code",
   "execution_count": null,
   "metadata": {},
   "outputs": [],
   "source": [
    "cookies = {\n",
    "    'staticfilecache': 'typo_user_logged_in',\n",
    "    'PHPSESSID': phpsessid,\n",
    "}\n",
    "\n",
    "headers = {\n",
    "    'Origin': 'https://www.room.nl',\n",
    "    'Referer': 'https://www.room.nl/aanbod/studentenwoningen/',\n",
    "    'X-Requested-With': 'XMLHttpRequest',\n",
    "}\n",
    "response = requests.post('https://www.room.nl/portal/object/frontend/getallobjects/format/json', headers=headers, cookies=cookies)\n"
   ]
  },
  {
   "cell_type": "code",
   "execution_count": null,
   "metadata": {
    "scrolled": false
   },
   "outputs": [],
   "source": [
    "# Make dataframe.\n",
    "result = pd.DataFrame(response.json()['result']).set_index('id')\n",
    "\n",
    "Recode to mostly non-dictionary flat items.\n",
    "result.regio = [d.get('name') for d in result.regio]\n",
    "result.municipality = [d.get('name') for d in result.municipality]\n",
    "result.city = [d.get('name') for d in result.city]\n",
    "result.quarter = [d.get('name') for d in result.quarter]\n",
    "result.floor = [d.get('localisedName') for d in result.floor]\n",
    "result.huurtoeslagVoorwaarde = [d.get('localizedIconText') for d in result.huurtoeslagVoorwaarde]\n",
    "result['amountOfRooms'] = [d.get('amountOfRooms') for d in result.sleepingRoom]\n",
    "result['isHospiteren'] = [d.get('isHospiteren') for d in result.model]\n",
    "result.woningsoort = [d.get('localisedName') for d in result.woningsoort]\n",
    "\n",
    "# Drop columns that do not return any values (or always the same).\n",
    "result = result.drop(columns=[\n",
    "    'dwellingType', 'neighborhood', 'availableFrom', 'sellingPrice', \n",
    "    'energyLabel', 'sleepingRoom', 'rentBuy', 'closingDate', 'actionLabel', \n",
    "    'actionLabelFrom', 'actionLabelUntil', 'actionLabelIfActive', \n",
    "    'relatieHuurInkomenData', 'relatieHuurInkomenGroepen', 'koopvoorwaarden', 'vatInclusive',\n",
    "    'verzameladvertentieID', 'isExternModelType', 'woningsoort', 'reactieUrl',\n",
    "    'isInGepubliceerdeVerzameladvertentie', 'isGepubliceerd', 'doelgroepen',\n",
    "    'isExtraAanbod', 'newlyBuild', 'model', 'pictures'\n",
    "])\n",
    "aanbiedingen = result\n"
   ]
  },
  {
   "cell_type": "code",
   "execution_count": null,
   "metadata": {
    "scrolled": true
   },
   "outputs": [],
   "source": [
    "# Combine two datasets into extended single dataset.\n",
    "woning_df = aanbiedingen.join(application_poss_df, on='id')\n",
    "woning_df.head(2)"
   ]
  },
  {
   "cell_type": "markdown",
   "metadata": {},
   "source": [
    "# Voeg huurtoeslag toe\n",
    "Snelle naieve berekening van je huurtoeslag. Gaat er van uit dat je als student alleen op kamers gaat wonen zonder speciale maatregelen."
   ]
  },
  {
   "cell_type": "code",
   "execution_count": null,
   "metadata": {},
   "outputs": [],
   "source": [
    "# For 2020.\n",
    "# Retrieved from https://download.belastingdienst.nl/toeslagen/docs/berekening_huurtoeslag_tg0831z01fd.pdf\n",
    "# This is making a lot of default assumptions (no handicap, solo living (EP), etc.)\n",
    "def huurtoeslag(rent, service_costs, age_under_23, income):\n",
    "    \n",
    "    max_under_23 = 432.51\n",
    "    max_over_23 = 737.14\n",
    "    \n",
    "    service_costs = min(48, service_costs)\n",
    "    rekenhuur = rent + service_costs\n",
    "    \n",
    "    if age_under_23 and rekenhuur > max_under_23:\n",
    "        return 0\n",
    "    \n",
    "    if not age_under_23 and rekenhuur > max_over_23:\n",
    "        return 0\n",
    "    \n",
    "    factor_a = 0.000000637464\n",
    "    factor_b = 0.002341779776\n",
    "    \n",
    "    minimum_income = 16.650\n",
    "    \n",
    "    # Calculate mandatory self-payment-part: \n",
    "    if income <= minimum_income:\n",
    "        basishuur = 232.65\n",
    "    else:\n",
    "        basishuur = (factor_a * income)**2 + (factor_b * income) + 16.94\n",
    "    \n",
    "    # Boven deze grens gaat er van je huur af (extra duur, extra kwaliteit)\n",
    "    kwaliteitskortingsgrens = 432.51\n",
    "    aftoppingsgrens = 619.01\n",
    "    \n",
    "    # Calculation:\n",
    "    part_a = min(kwaliteitskortingsgrens, rekenhuur) - basishuur\n",
    "    part_b, part_c = 0, 0\n",
    "    \n",
    "    if rekenhuur > kwaliteitskortingsgrens:\n",
    "        part_b = (min(rekenhuur, aftoppingsgrens) - max(basishuur, kwaliteitskortingsgrens)) * 0.65\n",
    "    \n",
    "    if rekenhuur > aftoppingsgrens:\n",
    "        part_c = (rekenhuur - max(basishuur, aftoppingsgrens)) * 0.4\n",
    "    \n",
    "    # Wat een gezeik maar het lijkt oke te werken\n",
    "    return round(max((part_a + part_b + part_c), 0))\n",
    "    \n",
    "# Run some tests to see if these are correct.\n",
    "# Validate here: https://www.belastingdienst.nl/rekenhulpen/toeslagen/\n",
    "assert huurtoeslag(rent=395, service_costs=35, age_under_23=True, income=0) == 197\n",
    "assert huurtoeslag(494, service_costs=110, age_under_23=False, income=0) == 271\n",
    "assert huurtoeslag(580, service_costs=120, age_under_23=False, income=0) == 325"
   ]
  },
  {
   "cell_type": "code",
   "execution_count": null,
   "metadata": {},
   "outputs": [],
   "source": [
    "def apply_huurtoeslag(row):\n",
    "    row['huurtoeslag'] = huurtoeslag(\n",
    "        rent=row.aangepasteNettoHuurprijs, \n",
    "        service_costs=min(48, (row.aangepasteTotaleHuurprijs - row.aangepasteNettoHuurprijs)),\n",
    "        age_under_23=(leeftijd < 23),\n",
    "        income=income\n",
    "    )\n",
    "    \n",
    "    row['huurNaToeslag'] = row.aangepasteTotaleHuurprijs - row['huurtoeslag']\n",
    "    \n",
    "    return row\n",
    "        "
   ]
  },
  {
   "cell_type": "code",
   "execution_count": null,
   "metadata": {},
   "outputs": [],
   "source": [
    "def linkify(url):\n",
    "    return '<a target=\"_blank\" rel=\"noopener noreferrer\" href=\"https://www.room.nl/aanbod/studentenwoningen/details/{}/\">Open</a>'.format(url)\n"
   ]
  },
  {
   "cell_type": "markdown",
   "metadata": {},
   "source": [
    "# Get some nice conclusions from the data!\n",
    "Hier kunnen we wat spelen met data."
   ]
  },
  {
   "cell_type": "code",
   "execution_count": null,
   "metadata": {
    "scrolled": false
   },
   "outputs": [],
   "source": [
    "# Select all places that are available to react to\n",
    "woning_df = woning_df[woning_df.kanReageren]\n",
    "\n",
    "# Add link.\n",
    "woning_df = woning_df.drop(columns='link', errors='ignore')\n",
    "woning_df.insert(0, 'link', woning_df.urlKey.apply(linkify))\n",
    "\n",
    "# Apply huurtoeslag\n",
    "woning_df = woning_df.apply(apply_huurtoeslag, axis=1)\n",
    "\n",
    "# Filter on some unwanted in info-field\n",
    "woning_df = woning_df[~woning_df.infoveldKort.str.contains('2020')]\n",
    "\n",
    "# Remove if allow for ending same year, it looks for day-month like 03-11 or 23-1\n",
    "woning_df = woning_df[~woning_df.infoveldKort.str.contains('\\d+\\-\\d+')]\n"
   ]
  },
  {
   "cell_type": "markdown",
   "metadata": {},
   "source": [
    "## Kamers met de laagste huur na huurtoeslag\n",
    "En hier kunnen we dan de resultaten zien: de kamer die we het beste kunnen nemen!"
   ]
  },
  {
   "cell_type": "code",
   "execution_count": null,
   "metadata": {
    "scrolled": false
   },
   "outputs": [],
   "source": [
    "HTML(\n",
    "    woning_df.sort_values(by='huurNaToeslag').head(10).to_html(escape=False)\n",
    ")"
   ]
  },
  {
   "cell_type": "code",
   "execution_count": null,
   "metadata": {},
   "outputs": [],
   "source": []
  }
 ],
 "metadata": {
  "kernelspec": {
   "display_name": "Python 3",
   "language": "python",
   "name": "python3"
  },
  "language_info": {
   "codemirror_mode": {
    "name": "ipython",
    "version": 3
   },
   "file_extension": ".py",
   "mimetype": "text/x-python",
   "name": "python",
   "nbconvert_exporter": "python",
   "pygments_lexer": "ipython3",
   "version": "3.7.4"
  }
 },
 "nbformat": 4,
 "nbformat_minor": 2
}
